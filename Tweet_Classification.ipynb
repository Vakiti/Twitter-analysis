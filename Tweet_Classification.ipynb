{
  "nbformat_minor": 0,
  "nbformat": 4,
  "metadata": {
    "language_info": {
      "name": "python",
      "pygments_lexer": "ipython3",
      "codemirror_mode": {
        "name": "ipython",
        "version": 3
      },
      "nbconvert_exporter": "python",
      "file_extension": ".py",
      "mimetype": "text/x-python",
      "version": "3.5.2"
    },
    "kernelspec": {
      "name": "python3",
      "display_name": "Python 3",
      "language": "python"
    },
    "colab": {
      "provenance": []
    }
  },
  "cells": [
    {
      "cell_type": "markdown",
      "source": [
        "## 1. Tweet classification: Trump vs. Trudeau\n",
        "\n",
        "> Indented block\n",
        "\n",
        "\n",
        "<p>So you think you can classify text? How about tweets? In this notebook, we'll take a dive into the world of social media text classification by investigating how to properly classify tweets from two prominent North American politicians: Donald Trump and Justin Trudeau.</p>\n",
        "<p><img src=\"https://upload.wikimedia.org/wikipedia/commons/thumb/4/47/President_Donald_Trump_and_Prime_Minister_Justin_Trudeau_Joint_Press_Conference%2C_February_13%2C_2017.jpg/800px-President_Donald_Trump_and_Prime_Minister_Justin_Trudeau_Joint_Press_Conference%2C_February_13%2C_2017.jpg\" alt=\"Donald Trump and Justin Trudeau shaking hands.\" height=\"50%\" width=\"50%\"></p>\n",
        "<p><a href=\"https://commons.wikimedia.org/wiki/File:President_Donald_Trump_and_Prime_Minister_Justin_Trudeau_Joint_Press_Conference,_February_13,_2017.jpg\">Photo Credit: Executive Office of the President of the United States</a></p>\n",
        "<p>Tweets pose specific problems to NLP, including the fact they are shorter texts. There are also plenty of platform-specific conventions to give you hassles: mentions, #hashtags, emoji, links and short-hand phrases (ikr?). Can we overcome those challenges and build a useful classifier for these two tweeters? Yes! Let's get started.</p>\n",
        "<p>To begin, we will import all the tools we need from scikit-learn. We will need to properly vectorize our data (<code>CountVectorizer</code> and <code>TfidfVectorizer</code>). And we will also want to import some models, including <code>MultinomialNB</code> from the <code>naive_bayes</code> module, <code>LinearSVC</code> from the <code>svm</code> module and <code>PassiveAggressiveClassifier</code> from the <code>linear_model</code> module. Finally, we'll need <code>sklearn.metrics</code> and <code>train_test_split</code> and <code>GridSearchCV</code> from the <code>model_selection</code> module to evaluate and optimize our model.</p>"
      ],
      "metadata": {
        "run_control": {
          "frozen": true
        },
        "dc": {
          "key": "4"
        },
        "editable": false,
        "tags": [
          "context"
        ],
        "deletable": false,
        "id": "mc7r3FYmpTPE"
      }
    },
    {
      "outputs": [],
      "execution_count": null,
      "cell_type": "code",
      "source": [
        "# Set seed for reproducibility\n",
        "import random; random.seed(53)\n",
        "\n",
        "# Import all we need from sklearn\n",
        "from sklearn.feature_extraction.text import CountVectorizer \n",
        "from sklearn.feature_extraction.text import TfidfVectorizer\n",
        "from sklearn.model_selection import train_test_split\n",
        "from sklearn.naive_bayes import MultinomialNB\n",
        "from sklearn.svm import LinearSVC\n",
        "from sklearn import metrics \n"
      ],
      "metadata": {
        "collapsed": true,
        "tags": [
          "sample_code"
        ],
        "dc": {
          "key": "4"
        },
        "id": "LmtWkr5PpTPG"
      }
    },
    {
      "outputs": [
        {
          "output_type": "display_data",
          "data": {
            "application/json": "{\"tests\": [{\"name\": \"__main__.test_CountVectorizer\", \"success\": true, \"message\": \"\"}, {\"name\": \"__main__.test_TfidfVectorizer\", \"success\": true, \"message\": \"\"}, {\"name\": \"__main__.test_train_test_split\", \"success\": true, \"message\": \"\"}, {\"name\": \"__main__.test_MultinomialNB\", \"success\": true, \"message\": \"\"}, {\"name\": \"__main__.test_LinearSVC\", \"success\": true, \"message\": \"\"}, {\"name\": \"__main__.test_metrics\", \"success\": true, \"message\": \"\"}], \"success\": true, \"summary\": {\"tests\": 6, \"errors\": 0, \"failures\": 0}}"
          },
          "metadata": {}
        },
        {
          "output_type": "execute_result",
          "data": {
            "text/plain": "6/6 tests passed\n"
          },
          "execution_count": 20,
          "metadata": {}
        }
      ],
      "execution_count": null,
      "cell_type": "code",
      "source": [
        "%%nose\n",
        "# This needs to be included at the beginning of every @tests cell.\n",
        "\n",
        "# One or more tests of the students code.\n",
        "# The @solution should pass the tests.\n",
        "# The purpose of the tests is to try to catch common errors and to \n",
        "# give the student a hint on how to resolve these errors.\n",
        "\n",
        "def test_CountVectorizer():\n",
        "    assert 'CountVectorizer' in globals(), \\\n",
        "    'CountVectorizer should be imported.'\n",
        "    \n",
        "def test_TfidfVectorizer():\n",
        "    assert 'TfidfVectorizer' in globals(), \\\n",
        "    'TfidfVectorizer should be imported.'\n",
        "    \n",
        "def test_train_test_split():\n",
        "    assert 'train_test_split' in globals(), \\\n",
        "    'train_test_split should be imported.'\n",
        "    \n",
        "def test_MultinomialNB():\n",
        "    assert 'MultinomialNB' in globals(), \\\n",
        "    'MultinomialNB should be imported.'\n",
        "\n",
        "def test_LinearSVC():\n",
        "    assert 'LinearSVC' in globals(), \\\n",
        "    'LinearSVC should be imported.'\n",
        "\n",
        "def test_metrics():\n",
        "    assert 'metrics' in globals(), \\\n",
        "    'metrics should be imported.'"
      ],
      "metadata": {
        "hide": true,
        "tags": [
          "tests"
        ],
        "dc": {
          "key": "4"
        },
        "id": "-uX2gtfIpTPH",
        "outputId": "a46a4f75-e99b-4227-82d7-5dc0e9212557"
      }
    },
    {
      "cell_type": "markdown",
      "source": [
        "## 2. Transforming our collected data\n",
        "<p>To begin, let's start with a corpus of tweets which were collected in November 2017. They are available in CSV format. We'll use a Pandas DataFrame to help import the data and pass it to scikit-learn for further processing.</p>\n",
        "<p>Since the data has been collected via the Twitter API and not split into test and training sets, we'll need to do this. Let's use <code>train_test_split()</code> with <code>random_state=53</code> and a test size of 0.33, just as we did in the DataCamp course. This will ensure we have enough test data and we'll get the same results no matter where or when we run this code.</p>"
      ],
      "metadata": {
        "run_control": {
          "frozen": true
        },
        "dc": {
          "key": "11"
        },
        "editable": false,
        "tags": [
          "context"
        ],
        "deletable": false,
        "id": "qquxM-r2pTPI"
      }
    },
    {
      "outputs": [],
      "execution_count": null,
      "cell_type": "code",
      "source": [
        "import pandas as pd\n",
        "from sklearn.model_selection import train_test_split\n",
        "\n",
        "# Load data\n",
        "tweet_df=pd.read_csv(\"datasets/tweets.csv\")\n",
        "\n",
        "# Create target\n",
        "y = tweet_df['author']\n",
        "\n",
        "# Split training and testing data\n",
        "X_train, X_test, y_train, y_test = train_test_split( tweet_df['status'], y, test_size=0.33, random_state=53)"
      ],
      "metadata": {
        "collapsed": true,
        "tags": [
          "sample_code"
        ],
        "dc": {
          "key": "11"
        },
        "id": "ti4o8x6PpTPI"
      }
    },
    {
      "outputs": [
        {
          "output_type": "display_data",
          "data": {
            "application/json": "{\"tests\": [{\"name\": \"__main__.test_df\", \"success\": true, \"message\": \"\"}, {\"name\": \"__main__.test_y\", \"success\": true, \"message\": \"\"}, {\"name\": \"__main__.train_test_split_test\", \"success\": true, \"message\": \"\"}], \"success\": true, \"summary\": {\"tests\": 3, \"errors\": 0, \"failures\": 0}}"
          },
          "metadata": {}
        },
        {
          "output_type": "execute_result",
          "data": {
            "text/plain": "3/3 tests passed\n"
          },
          "execution_count": 22,
          "metadata": {}
        }
      ],
      "execution_count": null,
      "cell_type": "code",
      "source": [
        "%%nose\n",
        "# This needs to be included at the beginning of every @tests cell.\n",
        "\n",
        "# One or more tests of the students code. \n",
        "# The @solution should pass the tests.\n",
        "# The purpose of the tests is to try to catch common errors and to \n",
        "# give the student a hint on how to resolve these errors.\n",
        "\n",
        "def test_df():\n",
        "    assert isinstance(tweet_df, pd.DataFrame), \\\n",
        "    'tweet_df should be a Pandas DataFrame.'\n",
        "\n",
        "def test_y():\n",
        "    assert isinstance(y, pd.Series), \\\n",
        "    'y should be a Pandas Series.'\n",
        "\n",
        "def train_test_split_test():\n",
        "    assert len(y_train) == len(X_train), \\\n",
        "    'Make sure to run the train-test split.'\n",
        "    assert len(y_test) == len(X_test), \\\n",
        "    'Make sure to run the train-test split.'"
      ],
      "metadata": {
        "hide": true,
        "tags": [
          "tests"
        ],
        "dc": {
          "key": "11"
        },
        "id": "NZK4BztupTPI",
        "outputId": "9285a167-9ff8-49b0-f0f2-fbd2fb2d82c5"
      }
    },
    {
      "cell_type": "markdown",
      "source": [
        "## 3. Vectorize the tweets\n",
        "<p>We have the training and testing data all set up, but we need to create vectorized representations of the tweets in order to apply machine learning.</p>\n",
        "<p>To do so, we will utilize the <code>CountVectorizer</code> and <code>TfidfVectorizer</code> classes which we will first need to fit to the data.</p>\n",
        "<p>Once this is complete, we can start modeling with the new vectorized tweets!</p>"
      ],
      "metadata": {
        "run_control": {
          "frozen": true
        },
        "dc": {
          "key": "18"
        },
        "editable": false,
        "tags": [
          "context"
        ],
        "deletable": false,
        "id": "9sEB0Gl6pTPJ"
      }
    },
    {
      "outputs": [],
      "execution_count": null,
      "cell_type": "code",
      "source": [
        "from sklearn.feature_extraction.text import TfidfVectorizer\n",
        "\n",
        "# Initializing CountVectorizer with English stop words removed, min_df=0.05, and max_df=0.9\n",
        "count_vectorizer = CountVectorizer(stop_words='english', min_df=0.05, max_df=0.9)\n",
        "\n",
        "# Fitting and transforming the training data to create count_train\n",
        "count_train = count_vectorizer.fit_transform(X_train)\n",
        "\n",
        "# Transforming the test data to create count_test\n",
        "count_test = count_vectorizer.transform(X_test)\n",
        "\n",
        "# Initializing TfidfVectorizer with English stop words removed, min_df=0.05, and max_df=0.9\n",
        "tfidf_vectorizer=TfidfVectorizer(stop_words='english', min_df=0.05, max_df=0.9)\n",
        "\n",
        "# Fitting and transforming the training data to create tfdif_train\n",
        "tfidf_train=tfidf_vectorizer.fit_transform(X_train)\n",
        "\n",
        "# Transforming the test data to create tfdif_test\n",
        "tfidf_test=tfidf_vectorizer.transform(X_test)"
      ],
      "metadata": {
        "collapsed": true,
        "tags": [
          "sample_code"
        ],
        "dc": {
          "key": "18"
        },
        "id": "Rx406R_lpTPJ"
      }
    },
    {
      "outputs": [
        {
          "output_type": "display_data",
          "data": {
            "application/json": "{\"tests\": [{\"name\": \"__main__.test_train\", \"success\": true, \"message\": \"\"}, {\"name\": \"__main__.test_test\", \"success\": true, \"message\": \"\"}, {\"name\": \"__main__.test_vectorizers\", \"success\": true, \"message\": \"\"}], \"success\": true, \"summary\": {\"tests\": 3, \"errors\": 0, \"failures\": 0}}"
          },
          "metadata": {}
        },
        {
          "output_type": "execute_result",
          "data": {
            "text/plain": "3/3 tests passed\n"
          },
          "execution_count": 24,
          "metadata": {}
        }
      ],
      "execution_count": null,
      "cell_type": "code",
      "source": [
        "%%nose\n",
        "# This needs to be included at the beginning of every @tests cell.\n",
        "\n",
        "# One or more tests of the students code. \n",
        "# The @solution should pass the tests.\n",
        "# The purpose of the tests is to try to catch common errors and to \n",
        "# give the student a hint on how to resolve these errors.\n",
        "import scipy\n",
        "\n",
        "def test_train():\n",
        "    assert isinstance(count_train, scipy.sparse.csr.csr_matrix), \\\n",
        "    'Make sure to run the count vectorizer for the training data.'\n",
        "    assert isinstance(tfidf_train, scipy.sparse.csr.csr_matrix), \\\n",
        "    'Make sure to run the TFIDF vectorizer for the training data.'\n",
        "\n",
        "def test_test():\n",
        "    assert isinstance(count_test, scipy.sparse.csr.csr_matrix), \\\n",
        "    'Make sure to run the count vectorizer for the test data.'\n",
        "    assert isinstance(tfidf_test, scipy.sparse.csr.csr_matrix), \\\n",
        "    'Make sure to run the TFIDF vectorizer for the test data.'\n",
        "    \n",
        "def test_vectorizers():\n",
        "    assert isinstance(tfidf_vectorizer, TfidfVectorizer), \\\n",
        "    'tfidf_vectorizer is missing or an incorrect type.'\n",
        "    assert isinstance(count_vectorizer, CountVectorizer), \\\n",
        "    'count_vectorizer is missing or an incorrect type.'\n",
        "    assert tfidf_vectorizer.stop_words == 'english', \\\n",
        "    'Use parameters to set the stop words for the TFIDF vectorizer.'\n",
        "    assert count_vectorizer.stop_words == 'english', \\\n",
        "    'Use parameters to set the stop words for the count vectorizer.'\n",
        "    assert tfidf_vectorizer.max_df == 0.9, \\\n",
        "    'Use parameters to set the max_df for the TFIDF vectorizer.'\n",
        "    assert count_vectorizer.max_df == 0.9, \\\n",
        "    'Use parameters to set the max_df for the count vectorizer.'\n",
        "    assert tfidf_vectorizer.min_df == 0.05, \\\n",
        "    'Use parameters to set the min_df for the TFIDF vectorizer.'\n",
        "    assert count_vectorizer.min_df == 0.05, \\\n",
        "    'Use parameters to set the min_df for the count vectorizer.'\n"
      ],
      "metadata": {
        "hide": true,
        "tags": [
          "tests"
        ],
        "dc": {
          "key": "18"
        },
        "id": "cuaMJpRzpTPJ",
        "outputId": "319f8c1a-08b4-4195-b32f-cc2cd4faaa1e"
      }
    },
    {
      "cell_type": "markdown",
      "source": [
        "## 4. Training a multinomial naive Bayes model\n",
        "<p>Now that we have the data in vectorized form, we can train the first model. Investigate using the Multinomial Naive Bayes model with both the <code>CountVectorizer</code> and <code>TfidfVectorizer</code> data. Which do will perform better? How come?</p>\n",
        "<p>To assess the accuracies, we will print the test sets accuracy scores for both models.</p>"
      ],
      "metadata": {
        "run_control": {
          "frozen": true
        },
        "dc": {
          "key": "25"
        },
        "editable": false,
        "tags": [
          "context"
        ],
        "deletable": false,
        "id": "lewEKpKzpTPJ"
      }
    },
    {
      "outputs": [
        {
          "name": "stdout",
          "text": "NaiveBayes Tfidf Score:  0.803030303030303\nNaiveBayes Count Score:  0.7954545454545454\n",
          "output_type": "stream"
        }
      ],
      "execution_count": null,
      "cell_type": "code",
      "source": [
        "# Create a MulitnomialNB model\n",
        "tfidf_nb = MultinomialNB()\n",
        "\n",
        "# ... Train your model here ...\n",
        "tfidf_nb.fit(tfidf_train, y_train)\n",
        "\n",
        "# Run predict on your TF-IDF test data to get your predictions\n",
        "tfidf_nb_pred =tfidf_nb.predict(tfidf_test)\n",
        "\n",
        "# Calculate the accuracy of your predictions\n",
        "tfidf_nb_score = metrics.accuracy_score(y_test, tfidf_nb_pred)\n",
        "\n",
        "# Create a MulitnomialNB model\n",
        "count_nb = MultinomialNB()\n",
        "\n",
        "# ... Train your model here ...\n",
        "count_nb.fit(count_train,y_train)\n",
        "\n",
        "# Run predict on your count test data to get your predictions\n",
        "count_nb_pred = count_nb.predict(count_test)\n",
        "\n",
        "# Calculate the accuracy of your predictions\n",
        "count_nb_score = metrics.accuracy_score(y_test, count_nb_pred)\n",
        "\n",
        "print('NaiveBayes Tfidf Score: ', tfidf_nb_score)\n",
        "print('NaiveBayes Count Score: ', count_nb_score)"
      ],
      "metadata": {
        "tags": [
          "sample_code"
        ],
        "dc": {
          "key": "25"
        },
        "id": "oi-7YokfpTPK",
        "outputId": "03914ff7-069e-4212-be2e-8332d5e0c404"
      }
    },
    {
      "outputs": [
        {
          "output_type": "display_data",
          "data": {
            "application/json": "{\"tests\": [{\"name\": \"__main__.test_models\", \"success\": true, \"message\": \"\"}, {\"name\": \"__main__.test_pred\", \"success\": true, \"message\": \"\"}, {\"name\": \"__main__.test_score\", \"success\": true, \"message\": \"\"}], \"success\": true, \"summary\": {\"tests\": 3, \"errors\": 0, \"failures\": 0}}"
          },
          "metadata": {}
        },
        {
          "output_type": "execute_result",
          "data": {
            "text/plain": "3/3 tests passed\n"
          },
          "execution_count": 26,
          "metadata": {}
        }
      ],
      "execution_count": null,
      "cell_type": "code",
      "source": [
        "%%nose\n",
        "# This needs to be included at the beginning of every @tests cell.\n",
        "\n",
        "# One or more tests of the students code. \n",
        "# The @solution should pass the tests.\n",
        "# The purpose of the tests is to try to catch common errors and to \n",
        "# give the student a hint on how to resolve these errors.\n",
        "\n",
        "import numpy\n",
        "\n",
        "def test_models():\n",
        "    assert isinstance(count_nb, MultinomialNB), \\\n",
        "    'count_nb should be a MultinomialNB model.'\n",
        "    assert isinstance(tfidf_nb, MultinomialNB), \\\n",
        "    'tfidf_nb should be a MultinomialNB model.'\n",
        "    assert isinstance(count_nb.classes_, numpy.ndarray)\n",
        "    assert len(count_nb.classes_) == 2, \\\n",
        "    'count_nb should have only two classes.'\n",
        "    assert isinstance(tfidf_nb.classes_, numpy.ndarray)\n",
        "    assert len(tfidf_nb.classes_) == 2, \\\n",
        "    'tfidf_nb should have only two classes.' \n",
        "    \n",
        "\n",
        "def test_pred():\n",
        "    assert isinstance(tfidf_nb_pred, numpy.ndarray), \\\n",
        "    'tfidf_nb_pred should be a numpy array.'\n",
        "    assert isinstance(count_nb_pred, numpy.ndarray), \\\n",
        "    'count_nb_pred should be a numpy array.'\n",
        "    assert set(tfidf_nb_pred) == set(tfidf_nb.classes_), \\\n",
        "    'tfidf_nb_pred should use the same classes as the model for prediction.'\n",
        "    assert set(count_nb_pred) == set(count_nb.classes_), \\\n",
        "    'count_nb_pred should use the same classes as the model for prediction.'\n",
        "\n",
        "def test_score():\n",
        "    assert isinstance(tfidf_nb_score, float), \\\n",
        "    'tfidf_nb_score should be a float.'\n",
        "    assert isinstance(count_nb_score, float), \\\n",
        "    'count_nb_score should be a float.'\n",
        "    assert tfidf_nb_score > .802, \\\n",
        "    'tfidf_nb_score should be above .802'\n",
        "    assert count_nb_score > .794, \\\n",
        "    'count_nb_score should be above .794'"
      ],
      "metadata": {
        "hide": true,
        "tags": [
          "tests"
        ],
        "dc": {
          "key": "25"
        },
        "id": "z-swI9w_pTPK",
        "outputId": "79b99086-f2d1-4dc6-80f4-caf8e6850605"
      }
    },
    {
      "cell_type": "markdown",
      "source": [
        "## 5. Evaluating our model using a confusion matrix\n",
        "<p>We see that the TF-IDF model performs better than the count-based approach. Based on what we know from the NLP fundamentals course, why might that be? We know that TF-IDF allows unique tokens to have a greater weight - perhaps tweeters are using specific important words that identify them! Let's continue the investigation.</p>\n",
        "<p>For classification tasks, an accuracy score doesn't tell the whole picture. A better evaluation can be made if we look at the confusion matrix, which shows the number correct and incorrect classifications based on each class. We can use the metrics, True Positives, False Positives, False Negatives, and True Negatives, to determine how well the model performed on a given class. How many times was Trump misclassified as Trudeau?</p>"
      ],
      "metadata": {
        "run_control": {
          "frozen": true
        },
        "dc": {
          "key": "32"
        },
        "editable": false,
        "tags": [
          "context"
        ],
        "deletable": false,
        "id": "cjHi-vdDpTPK"
      }
    },
    {
      "outputs": [
        {
          "name": "stdout",
          "text": "Confusion matrix, without normalization\nConfusion matrix, without normalization\n",
          "output_type": "stream"
        },
        {
          "output_type": "display_data",
          "data": {
            "image/png": "[encoded data removed]",
            "text/plain": "<Figure size 432x288 with 2 Axes>"
          },
          "metadata": {}
        },
        {
          "output_type": "display_data",
          "data": {
            "image/png": "[encoded data removed]",
            "text/plain": "<Figure size 432x288 with 2 Axes>"
          },
          "metadata": {}
        }
      ],
      "execution_count": null,
      "cell_type": "code",
      "source": [
        "%matplotlib inline\n",
        "\n",
        "from datasets.helper_functions import plot_confusion_matrix\n",
        "\n",
        "# Calculate the confusion matrices for the tfidf_nb model and count_nb models\n",
        "tfidf_nb_cm = metrics.confusion_matrix(y_test,tfidf_nb_pred, labels=['Donald J. Trump', 'Justin Trudeau'])\n",
        "count_nb_cm = metrics.confusion_matrix(y_test,count_nb_pred, labels=['Donald J. Trump', 'Justin Trudeau'])\n",
        "\n",
        "# Plot the tfidf_nb_cm confusion matrix\n",
        "plot_confusion_matrix(tfidf_nb_cm, classes=['Donald J. Trump', 'Justin Trudeau'], title=\"TF-IDF NB Confusion Matrix\")\n",
        "\n",
        "# Plot the count_nb_cm confusion matrix without overwriting the first plot \n",
        "plot_confusion_matrix(count_nb_cm, classes=['Donald J. Trump', 'Justin Trudeau'], title=\"TF-IDF NB Confusion Matrix\", figure=1)\n"
      ],
      "metadata": {
        "tags": [
          "sample_code"
        ],
        "dc": {
          "key": "32"
        },
        "id": "anmpgDmrpTPK",
        "outputId": "af4f1160-8679-4168-b7cb-10f0a70704c1"
      }
    },
    {
      "outputs": [
        {
          "output_type": "display_data",
          "data": {
            "application/json": "{\"tests\": [{\"name\": \"__main__.test_cm\", \"success\": true, \"message\": \"\"}], \"success\": true, \"summary\": {\"tests\": 1, \"errors\": 0, \"failures\": 0}}"
          },
          "metadata": {}
        },
        {
          "output_type": "execute_result",
          "data": {
            "text/plain": "1/1 tests passed\n"
          },
          "execution_count": 28,
          "metadata": {}
        }
      ],
      "execution_count": null,
      "cell_type": "code",
      "source": [
        "%%nose\n",
        "# This needs to be included at the beginning of every @tests cell\n",
        "\n",
        "# One or more tests of the students code. \n",
        "# The @solution should pass the tests.\n",
        "# The purpose of the tests is to try to catch common errors and to \n",
        "# give the student a hint on how to resolve these errors.\n",
        "import numpy\n",
        "\n",
        "\n",
        "def test_cm():\n",
        "    assert isinstance(tfidf_nb_cm, numpy.ndarray), \\\n",
        "    'tfidf_nb_cm should be a NumPy array.'\n",
        "    assert isinstance(count_nb_cm, numpy.ndarray), \\\n",
        "    'count_nb_cm should be a NumPy array.'\n",
        "    assert tfidf_nb_cm[0][0] == 56, \\\n",
        "    'The true label and predicted label for Trump in the TFIDF MultinomialNB model should be 56.'"
      ],
      "metadata": {
        "hide": true,
        "tags": [
          "tests"
        ],
        "dc": {
          "key": "32"
        },
        "id": "r__mK9Q1pTPL",
        "outputId": "ed87a0eb-4f49-4e4a-9ec9-02c691d8908d"
      }
    },
    {
      "cell_type": "markdown",
      "source": [
        "## 6. Trying out another classifier: Linear SVC\n",
        "<p>So the Bayesian model only has one prediction difference between the TF-IDF and count vectorizers -- fairly impressive! Interestingly, there is some confusion when the predicted label is Trump but the actual tweeter is Trudeau. If we were going to use this model, we would want to investigate what tokens are causing the confusion in order to improve the model. </p>\n",
        "<p>Now that we've seen what the Bayesian model can do, how about trying a different approach? <a href=\"https://scikit-learn.org/stable/modules/generated/sklearn.svm.LinearSVC.html\">LinearSVC</a> is another popular choice for text classification. Let's see if using it with the TF-IDF vectors improves the accuracy of the classifier!</p>"
      ],
      "metadata": {
        "run_control": {
          "frozen": true
        },
        "dc": {
          "key": "39"
        },
        "editable": false,
        "tags": [
          "context"
        ],
        "deletable": false,
        "id": "k6X6zD75pTPL"
      }
    },
    {
      "outputs": [
        {
          "name": "stdout",
          "text": "LinearSVC Score:   0.841\nConfusion matrix, without normalization\n",
          "output_type": "stream"
        },
        {
          "output_type": "display_data",
          "data": {
            "image/png": "[encoded data removed]",
            "text/plain": "<Figure size 432x288 with 2 Axes>"
          },
          "metadata": {}
        }
      ],
      "execution_count": null,
      "cell_type": "code",
      "source": [
        "# Create a LinearSVM model\n",
        "tfidf_svc = LinearSVC()\n",
        "\n",
        "# ... Train your model here ...\n",
        "tfidf_svc.fit(tfidf_train, y_train)\n",
        "\n",
        "# Run predict on your tfidf test data to get your predictions\n",
        "tfidf_svc_pred = tfidf_svc.predict(tfidf_test)\n",
        "\n",
        "# Calculate your accuracy using the metrics module\n",
        "tfidf_svc_score = metrics.accuracy_score(y_test,tfidf_svc_pred)\n",
        "\n",
        "print(\"LinearSVC Score:   %0.3f\" % tfidf_svc_score)\n",
        "\n",
        "# Calculate the confusion matrices for the tfidf_svc model\n",
        "svc_cm = metrics.confusion_matrix(y_test,tfidf_svc_pred, labels=['Donald J. Trump', 'Justin Trudeau'])\n",
        "\n",
        "# Plot the confusion matrix using the plot_confusion_matrix function\n",
        "plot_confusion_matrix(svc_cm, classes=['Donald J. Trump', 'Justin Trudeau'], title=\"TF-IDF LinearSVC Confusion Matrix\")"
      ],
      "metadata": {
        "tags": [
          "sample_code"
        ],
        "dc": {
          "key": "39"
        },
        "id": "zWS-CCIApTPL",
        "outputId": "5d8eefa4-2770-494f-da67-fa337c7534ea"
      }
    },
    {
      "outputs": [
        {
          "output_type": "display_data",
          "data": {
            "application/json": "{\"tests\": [{\"name\": \"__main__.test_models\", \"success\": true, \"message\": \"\"}, {\"name\": \"__main__.test_pred\", \"success\": true, \"message\": \"\"}, {\"name\": \"__main__.test_score\", \"success\": true, \"message\": \"\"}], \"success\": true, \"summary\": {\"tests\": 3, \"errors\": 0, \"failures\": 0}}"
          },
          "metadata": {}
        },
        {
          "output_type": "execute_result",
          "data": {
            "text/plain": "3/3 tests passed\n"
          },
          "execution_count": 30,
          "metadata": {}
        }
      ],
      "execution_count": null,
      "cell_type": "code",
      "source": [
        "%%nose\n",
        "# This needs to be included at the beginning of every @tests cell.\n",
        "\n",
        "# One or more tests of the students code. \n",
        "# The @solution should pass the tests.\n",
        "# The purpose of the tests is to try to catch common errors and to \n",
        "# give the student a hint on how to resolve these errors.\n",
        "import numpy\n",
        "\n",
        "def test_models():\n",
        "    assert isinstance(tfidf_svc, LinearSVC), \\\n",
        "    'tfidf_svc should be a LinearSVC model.'\n",
        "    assert isinstance(tfidf_svc.classes_, numpy.ndarray), \\\n",
        "    'tfidf_svc should have the proper classes.'\n",
        "    assert len(tfidf_svc.classes_) == 2, \\\n",
        "    'tfidf_svc should have exactly 2 classes.' \n",
        "\n",
        "def test_pred():\n",
        "    assert isinstance(tfidf_svc_pred, numpy.ndarray), \\\n",
        "    'tfidf_svc_pred should be a numpy array.'\n",
        "    assert set(tfidf_svc_pred) == set(tfidf_svc.classes_), \\\n",
        "    'tfidf_svc_pred should have the same classes as the model.'\n",
        "    \n",
        "def test_score():\n",
        "    assert isinstance(tfidf_svc_score, float), \\\n",
        "    'tfidf_svc_score should be a float.'\n",
        "    assert tfidf_svc_score > .84, \\\n",
        "    'tfidf_svc_score should be > .84.' "
      ],
      "metadata": {
        "hide": true,
        "tags": [
          "tests"
        ],
        "dc": {
          "key": "39"
        },
        "id": "5afcl7ZApTPL",
        "outputId": "f636efbf-92fb-48e3-8bbf-9af05632e3eb"
      }
    },
    {
      "cell_type": "markdown",
      "source": [
        "## 7. Introspecting our top model\n",
        "<p>Wow, the LinearSVC model is even better than the Multinomial Bayesian one. Nice work! Via the confusion matrix we can see that, although there is still some confusion where Trudeau's tweets are classified as Trump's, the False Positive rate is better than the previous model. So, we have a performant model, right? </p>\n",
        "<p>We might be able to continue tweaking and improving all of the previous models by learning more about parameter optimization or applying some better preprocessing of the tweets. </p>\n",
        "<p>Now let's see what the model has learned. Using the LinearSVC Classifier with two classes (Trump and Trudeau) we can sort the features (tokens), by their weight and see the most important tokens for both Trump and Trudeau. What are the most Trump-like or Trudeau-like words? Did the model learn something useful to distinguish between these two men? </p>"
      ],
      "metadata": {
        "run_control": {
          "frozen": true
        },
        "dc": {
          "key": "46"
        },
        "editable": false,
        "tags": [
          "context"
        ],
        "deletable": false,
        "id": "DMq_P3ObpTPL"
      }
    },
    {
      "outputs": [
        {
          "output_type": "display_data",
          "data": {
            "image/png": "[encoded data removed]",
            "text/plain": "<Figure size 1080x360 with 1 Axes>"
          },
          "metadata": {}
        },
        {
          "name": "stdout",
          "text": "[(-0.3959805096637012, 'great'),\n (-0.24645305517926153, 'thank'),\n (0.06257945672976514, 'president'),\n (0.4821314079500245, 'https'),\n (0.5960471797135609, 'vietnam'),\n (0.6155579923199074, 'amp'),\n (0.7725805664176709, 'le'),\n (0.8213760364933008, 'les'),\n (0.8286564890048842, 'today'),\n (1.1869078715724872, 'du'),\n (1.3143523413860758, 'pour'),\n (1.4122577007419972, 'nous'),\n (1.4612745610583942, 'rt'),\n (1.4991760717609708, 'et'),\n (1.5056442036271984, 'la'),\n (1.656797551241633, 'canada')]\n",
          "output_type": "stream"
        }
      ],
      "execution_count": null,
      "cell_type": "code",
      "source": [
        "from datasets.helper_functions import plot_and_return_top_features\n",
        "\n",
        "# Import pprint from pprint\n",
        "from pprint import pprint\n",
        "\n",
        "# Get the top features using the plot_and_return_top_features function and your top model and tfidf vectorizer\n",
        "top_features = plot_and_return_top_features(tfidf_svc,tfidf_vectorizer)\n",
        "\n",
        "# pprint the top features\n",
        "pprint(top_features)"
      ],
      "metadata": {
        "tags": [
          "sample_code"
        ],
        "dc": {
          "key": "46"
        },
        "id": "QcZaFK5epTPM",
        "outputId": "f71c99f4-2df0-4ddf-ca4b-a9d6d10da1b9"
      }
    },
    {
      "outputs": [
        {
          "output_type": "display_data",
          "data": {
            "application/json": "{\"tests\": [{\"name\": \"__main__.test_example\", \"success\": true, \"message\": \"\"}], \"success\": true, \"summary\": {\"tests\": 1, \"errors\": 0, \"failures\": 0}}"
          },
          "metadata": {}
        },
        {
          "output_type": "execute_result",
          "data": {
            "text/plain": "1/1 tests passed\n"
          },
          "execution_count": 32,
          "metadata": {}
        }
      ],
      "execution_count": null,
      "cell_type": "code",
      "source": [
        "%%nose\n",
        "# This needs to be included at the beginning of every @tests cell.\n",
        "\n",
        "# One or more tests of the students code. \n",
        "# The @solution should pass the tests.\n",
        "# The purpose of the tests is to try to catch common errors and to \n",
        "# give the student a hint on how to resolve these errors.\n",
        "\n",
        "def test_example():\n",
        "    assert isinstance(top_features, list), \\\n",
        "    'top_features should be a Python list.'\n",
        "    assert isinstance(top_features[0], tuple), \\\n",
        "    'The top_features should be a list of tuples.'\n",
        "    assert isinstance(top_features[0][0], float), \\\n",
        "    'The first element of each tuple in the top_features list should be a float.'\n",
        "    assert isinstance(top_features[0][1], str), \\\n",
        "    'The second element of each tuple in the top_features list should be a string.'\n",
        "    assert top_features[0][1] == 'great', \\\n",
        "    'The top feature for Trump (i.e. first feature returned) should be the word: great.'"
      ],
      "metadata": {
        "hide": true,
        "tags": [
          "tests"
        ],
        "dc": {
          "key": "46"
        },
        "id": "HAnomr1HpTPM",
        "outputId": "f53df6a2-1a1c-4fcc-bffe-e152fdafbf23"
      }
    },
    {
      "cell_type": "markdown",
      "source": [
        "## 8. Bonus: can you write a Trump or Trudeau tweet?\n",
        "<p>So, what did our model learn? It seems like it learned that Trudeau tweets in French!</p>\n",
        "<p>I challenge you to write your own tweet using the knowledge gained to trick the model! Use the printed list or plot above to make some inferences about what words will classify your text as Trump or Trudeau. Can you fool the model into thinking you are Trump or Trudeau?</p>\n",
        "<p>If you can write French, feel free to make your Trudeau-impersonation tweet in French! As you may have noticed, these French words are common words, or, \"stop words\". You could remove both English and French stop words from the tweets as a preprocessing step, but that might decrease the accuracy of the model because Trudeau is the only French-speaker in the group. If you had a dataset with more than one French speaker, this would be a useful preprocessing step.</p>\n",
        "<p>Future work on this dataset could involve:</p>\n",
        "<ul>\n",
        "<li>Add extra preprocessing (such as removing URLs or French stop words) and see the effects</li>\n",
        "<li>Use GridSearchCV to improve both your Bayesian and LinearSVC models by finding the optimal parameters</li>\n",
        "<li>Introspect your Bayesian model to determine what words are more Trump- or Trudeau- like</li>\n",
        "<li>Add more recent tweets to your dataset using tweepy and retrain</li>\n",
        "</ul>\n",
        "<p>Good luck writing your impersonation tweets -- feel free to share them on Twitter!</p>"
      ],
      "metadata": {
        "run_control": {
          "frozen": true
        },
        "dc": {
          "key": "53"
        },
        "editable": false,
        "tags": [
          "context"
        ],
        "deletable": false,
        "id": "hfGCnBLHpTPM"
      }
    },
    {
      "outputs": [
        {
          "name": "stdout",
          "text": "Predicted Trump tweet ['Donald J. Trump']\nPredicted Trudeau tweet ['Justin Trudeau']\n",
          "output_type": "stream"
        }
      ],
      "execution_count": null,
      "cell_type": "code",
      "source": [
        "trump_tweet = \"Thank God America is great!\"\n",
        "trudeau_tweet = \"Et tu Coffeffe\" \n",
        "\n",
        "trump_tweet_vectorized = tfidf_vectorizer.transform([trump_tweet])\n",
        "trudeau_tweet_vectorized = tfidf_vectorizer.transform([trudeau_tweet])\n",
        "\n",
        "trump_tweet_pred = tfidf_svc.predict(trump_tweet_vectorized)\n",
        "trudeau_tweet_pred = tfidf_svc.predict(trudeau_tweet_vectorized)\n",
        "\n",
        "print(\"Predicted Trump tweet\", trump_tweet_pred)\n",
        "print(\"Predicted Trudeau tweet\", trudeau_tweet_pred)"
      ],
      "metadata": {
        "tags": [
          "sample_code"
        ],
        "dc": {
          "key": "53"
        },
        "id": "pZLaTG7QpTPM",
        "outputId": "5612d0e9-f701-4cbe-ebeb-670e8576edde"
      }
    },
    {
      "outputs": [
        {
          "output_type": "display_data",
          "data": {
            "application/json": "{\"tests\": [{\"name\": \"__main__.test_example\", \"success\": true, \"message\": \"\"}], \"success\": true, \"summary\": {\"tests\": 1, \"errors\": 0, \"failures\": 0}}"
          },
          "metadata": {}
        },
        {
          "output_type": "execute_result",
          "data": {
            "text/plain": "1/1 tests passed\n"
          },
          "execution_count": 34,
          "metadata": {}
        }
      ],
      "execution_count": null,
      "cell_type": "code",
      "source": [
        "%%nose\n",
        "# This needs to be included at the beginning of every @tests cell.\n",
        "\n",
        "# One or more tests of the students code. \n",
        "# The @solution should pass the tests.\n",
        "# The purpose of the tests is to try to catch common errors and to \n",
        "# give the student a hint on how to resolve these errors.\n",
        "import scipy\n",
        "\n",
        "def test_example():\n",
        "    assert isinstance(trump_tweet, str), \\\n",
        "    \"trump_tweet should be a Python string\"\n",
        "    assert isinstance(trudeau_tweet, str), \\\n",
        "    \"trudeau_tweet should be a Python string\"\n",
        "    assert isinstance(trump_tweet_vectorized, scipy.sparse.csr.csr_matrix), \\\n",
        "    'Make sure to transform the Trump tweet using the TF-IDF vectorizer.'\n",
        "    assert isinstance(trudeau_tweet_vectorized, scipy.sparse.csr.csr_matrix), \\\n",
        "    'Make sure to transform the Trudeau tweet using hte TF-IDF vectorizer.'\n",
        "    assert trump_tweet_pred == ['Donald J. Trump'], \\\n",
        "    'Your tweet was not classified as a Trump tweet, try again!'\n",
        "    assert trudeau_tweet_pred == ['Justin Trudeau'], \\\n",
        "    'Your tweet was not classified as a Trudeau tweet, try again!'    "
      ],
      "metadata": {
        "hide": true,
        "tags": [
          "tests"
        ],
        "dc": {
          "key": "53"
        },
        "id": "p8h-JRdApTPN",
        "outputId": "788ce53e-fd37-490e-e088-288e6c6f57e0"
      }
    }
  ]
}